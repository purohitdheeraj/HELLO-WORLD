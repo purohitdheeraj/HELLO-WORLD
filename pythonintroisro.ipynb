{
  "nbformat": 4,
  "nbformat_minor": 0,
  "metadata": {
    "colab": {
      "name": "pythonintroisro.ipynb",
      "provenance": [],
      "authorship_tag": "ABX9TyPO4+P2KgnTmQgerNeTuGqq",
      "include_colab_link": true
    },
    "kernelspec": {
      "name": "python3",
      "display_name": "Python 3"
    }
  },
  "cells": [
    {
      "cell_type": "markdown",
      "metadata": {
        "id": "view-in-github",
        "colab_type": "text"
      },
      "source": [
        "<a href=\"https://colab.research.google.com/github/purohitdheeraj/HELLO-WORLD/blob/master/pythonintroisro.ipynb\" target=\"_parent\"><img src=\"https://colab.research.google.com/assets/colab-badge.svg\" alt=\"Open In Colab\"/></a>"
      ]
    },
    {
      "cell_type": "code",
      "metadata": {
        "id": "sw7PSyypbwwk"
      },
      "source": [
        "message = 'Hello Python!'"
      ],
      "execution_count": 2,
      "outputs": []
    },
    {
      "cell_type": "code",
      "metadata": {
        "id": "y2vI4vlPc7Gh"
      },
      "source": [
        "n = 10"
      ],
      "execution_count": 3,
      "outputs": []
    },
    {
      "cell_type": "code",
      "metadata": {
        "id": "AztXJ4b0c9Aw"
      },
      "source": [
        "e =  2.71"
      ],
      "execution_count": 5,
      "outputs": []
    },
    {
      "cell_type": "code",
      "metadata": {
        "colab": {
          "base_uri": "https://localhost:8080/"
        },
        "id": "qqg7SyBIdEC4",
        "outputId": "2847c414-1cdb-416d-c5f8-f6541666e5e2"
      },
      "source": [
        "print(message)"
      ],
      "execution_count": 6,
      "outputs": [
        {
          "output_type": "stream",
          "text": [
            "Hello Python!\n"
          ],
          "name": "stdout"
        }
      ]
    },
    {
      "cell_type": "code",
      "metadata": {
        "colab": {
          "base_uri": "https://localhost:8080/"
        },
        "id": "4McbzHoMdMWc",
        "outputId": "ebdde126-3c29-4bd5-cd18-9421e5d23e51"
      },
      "source": [
        "print(message, 'n==', n, 'e==',e)"
      ],
      "execution_count": 7,
      "outputs": [
        {
          "output_type": "stream",
          "text": [
            "Hello Python! n== 10 e== 2.71\n"
          ],
          "name": "stdout"
        }
      ]
    },
    {
      "cell_type": "code",
      "metadata": {
        "id": "5ZU08eHWdZWE"
      },
      "source": [
        "import math"
      ],
      "execution_count": 9,
      "outputs": []
    },
    {
      "cell_type": "code",
      "metadata": {
        "colab": {
          "base_uri": "https://localhost:8080/"
        },
        "id": "Z5L44Ki_dmiQ",
        "outputId": "f3da937c-d399-43de-a38e-8cc95d581534"
      },
      "source": [
        "math.pow(2,3)"
      ],
      "execution_count": 10,
      "outputs": [
        {
          "output_type": "execute_result",
          "data": {
            "text/plain": [
              "8.0"
            ]
          },
          "metadata": {
            "tags": []
          },
          "execution_count": 10
        }
      ]
    },
    {
      "cell_type": "code",
      "metadata": {
        "id": "MApJezgJd861"
      },
      "source": [
        "import random"
      ],
      "execution_count": 11,
      "outputs": []
    },
    {
      "cell_type": "code",
      "metadata": {
        "colab": {
          "base_uri": "https://localhost:8080/"
        },
        "id": "3YSchDBZeCet",
        "outputId": "6f9cf883-068c-492c-a0ba-d58e466ba1e8"
      },
      "source": [
        "random.randint(1, 100)"
      ],
      "execution_count": 12,
      "outputs": [
        {
          "output_type": "execute_result",
          "data": {
            "text/plain": [
              "52"
            ]
          },
          "metadata": {
            "tags": []
          },
          "execution_count": 12
        }
      ]
    },
    {
      "cell_type": "code",
      "metadata": {
        "id": "1A1BLqyPeHzf"
      },
      "source": [
        "#simple interest\r\n",
        "rate = 10\r\n",
        "principle = 1000\r\n",
        "time = 3"
      ],
      "execution_count": 13,
      "outputs": []
    },
    {
      "cell_type": "code",
      "metadata": {
        "colab": {
          "base_uri": "https://localhost:8080/"
        },
        "id": "Kz530Y_uePv2",
        "outputId": "536e9064-9565-47d6-d4be-091e03da5489"
      },
      "source": [
        "interest = (rate * principle * time)/100\r\n",
        "interest"
      ],
      "execution_count": 15,
      "outputs": [
        {
          "output_type": "execute_result",
          "data": {
            "text/plain": [
              "300.0"
            ]
          },
          "metadata": {
            "tags": []
          },
          "execution_count": 15
        }
      ]
    },
    {
      "cell_type": "code",
      "metadata": {
        "colab": {
          "base_uri": "https://localhost:8080/"
        },
        "id": "_0aecvN7ecqY",
        "outputId": "5d698de8-06e6-4c56-c660-ba728330b403"
      },
      "source": [
        "x = 9\r\n",
        "if x < 10:\r\n",
        "  print(\"x is less than 10\")\r\n",
        "  print()\r\n",
        "print('outside the if')"
      ],
      "execution_count": 17,
      "outputs": [
        {
          "output_type": "stream",
          "text": [
            "x is less than 10\n",
            "\n",
            "outside the if\n"
          ],
          "name": "stdout"
        }
      ]
    },
    {
      "cell_type": "code",
      "metadata": {
        "colab": {
          "base_uri": "https://localhost:8080/"
        },
        "id": "jB8eSGqtfBxp",
        "outputId": "92718d7f-c64d-42a3-fc74-87eae87e7418"
      },
      "source": [
        "print('doesn\\'t') # use backshlash \r\n",
        "print(\"doesn't\") # or we can use double qoutes"
      ],
      "execution_count": 19,
      "outputs": [
        {
          "output_type": "stream",
          "text": [
            "doesn't\n",
            "doesn't\n"
          ],
          "name": "stdout"
        }
      ]
    },
    {
      "cell_type": "code",
      "metadata": {
        "colab": {
          "base_uri": "https://localhost:8080/",
          "height": 35
        },
        "id": "gQWl6bMZfzsr",
        "outputId": "b6d98357-25d2-42f6-f4de-839649241374"
      },
      "source": [
        "3 * 'un' + 2*'ium'"
      ],
      "execution_count": 20,
      "outputs": [
        {
          "output_type": "execute_result",
          "data": {
            "application/vnd.google.colaboratory.intrinsic+json": {
              "type": "string"
            },
            "text/plain": [
              "'unununiumium'"
            ]
          },
          "metadata": {
            "tags": []
          },
          "execution_count": 20
        }
      ]
    },
    {
      "cell_type": "code",
      "metadata": {
        "id": "czp1szMBgEln"
      },
      "source": [
        "word = 'Python'"
      ],
      "execution_count": 22,
      "outputs": []
    },
    {
      "cell_type": "code",
      "metadata": {
        "colab": {
          "base_uri": "https://localhost:8080/",
          "height": 35
        },
        "id": "uiu1v5VPgHSr",
        "outputId": "4a096e07-34f3-440b-c82e-66d46acadbd5"
      },
      "source": [
        "word[0]"
      ],
      "execution_count": 23,
      "outputs": [
        {
          "output_type": "execute_result",
          "data": {
            "application/vnd.google.colaboratory.intrinsic+json": {
              "type": "string"
            },
            "text/plain": [
              "'P'"
            ]
          },
          "metadata": {
            "tags": []
          },
          "execution_count": 23
        }
      ]
    },
    {
      "cell_type": "code",
      "metadata": {
        "colab": {
          "base_uri": "https://localhost:8080/",
          "height": 35
        },
        "id": "AtmLS0f3gK2t",
        "outputId": "62e01e2d-1bf1-4bd0-c36b-9667a4ddd320"
      },
      "source": [
        "word[5]"
      ],
      "execution_count": 25,
      "outputs": [
        {
          "output_type": "execute_result",
          "data": {
            "application/vnd.google.colaboratory.intrinsic+json": {
              "type": "string"
            },
            "text/plain": [
              "'n'"
            ]
          },
          "metadata": {
            "tags": []
          },
          "execution_count": 25
        }
      ]
    },
    {
      "cell_type": "code",
      "metadata": {
        "colab": {
          "base_uri": "https://localhost:8080/",
          "height": 35
        },
        "id": "hUOVhTrHgOdA",
        "outputId": "9abd5e84-c441-46f8-81eb-40c4a5c0d244"
      },
      "source": [
        "word[-6]"
      ],
      "execution_count": 30,
      "outputs": [
        {
          "output_type": "execute_result",
          "data": {
            "application/vnd.google.colaboratory.intrinsic+json": {
              "type": "string"
            },
            "text/plain": [
              "'P'"
            ]
          },
          "metadata": {
            "tags": []
          },
          "execution_count": 30
        }
      ]
    },
    {
      "cell_type": "code",
      "metadata": {
        "colab": {
          "base_uri": "https://localhost:8080/",
          "height": 35
        },
        "id": "MTzfbhloga_n",
        "outputId": "2a841818-88b8-4296-cfd7-3dde77c61ac1"
      },
      "source": [
        "word[-1:0]"
      ],
      "execution_count": 33,
      "outputs": [
        {
          "output_type": "execute_result",
          "data": {
            "application/vnd.google.colaboratory.intrinsic+json": {
              "type": "string"
            },
            "text/plain": [
              "''"
            ]
          },
          "metadata": {
            "tags": []
          },
          "execution_count": 33
        }
      ]
    },
    {
      "cell_type": "code",
      "metadata": {
        "colab": {
          "base_uri": "https://localhost:8080/",
          "height": 35
        },
        "id": "B5mHKy3NhMT0",
        "outputId": "e67eded6-b702-42ab-f60e-f99e8691fc50"
      },
      "source": [
        "text = 'hello ' +\\\r\n",
        "        ' world'+\\\r\n",
        "        'hello'\r\n",
        "text"
      ],
      "execution_count": 38,
      "outputs": [
        {
          "output_type": "execute_result",
          "data": {
            "application/vnd.google.colaboratory.intrinsic+json": {
              "type": "string"
            },
            "text/plain": [
              "'hello  worldhello'"
            ]
          },
          "metadata": {
            "tags": []
          },
          "execution_count": 38
        }
      ]
    },
    {
      "cell_type": "code",
      "metadata": {
        "id": "UmGPbpSIhh_-"
      },
      "source": [
        "squares = [1, 4, 9, 16, 25]"
      ],
      "execution_count": 78,
      "outputs": []
    },
    {
      "cell_type": "code",
      "metadata": {
        "colab": {
          "base_uri": "https://localhost:8080/"
        },
        "id": "A48d4MvxhxQl",
        "outputId": "001bd6e6-26a3-4c31-f1a9-e0c7848d7511"
      },
      "source": [
        "squares"
      ],
      "execution_count": 68,
      "outputs": [
        {
          "output_type": "execute_result",
          "data": {
            "text/plain": [
              "[1, 4, 9, 16, 25]"
            ]
          },
          "metadata": {
            "tags": []
          },
          "execution_count": 68
        }
      ]
    },
    {
      "cell_type": "code",
      "metadata": {
        "colab": {
          "base_uri": "https://localhost:8080/"
        },
        "id": "kgnrG2CPhzpH",
        "outputId": "dfe07f5a-a0ea-40d4-97e1-3583484a59e2"
      },
      "source": [
        "squares = [i*i-(i+(i)) for i in squares]\r\n",
        "squares"
      ],
      "execution_count": 80,
      "outputs": [
        {
          "output_type": "execute_result",
          "data": {
            "text/plain": [
              "[3, 48, 3843, 49728, 329475]"
            ]
          },
          "metadata": {
            "tags": []
          },
          "execution_count": 80
        }
      ]
    },
    {
      "cell_type": "code",
      "metadata": {
        "colab": {
          "base_uri": "https://localhost:8080/"
        },
        "id": "HRgnRZzoiG2J",
        "outputId": "0a7b1a40-0b08-4f0a-a97b-cda434ed2601"
      },
      "source": [
        "squares[0]"
      ],
      "execution_count": 47,
      "outputs": [
        {
          "output_type": "execute_result",
          "data": {
            "text/plain": [
              "256"
            ]
          },
          "metadata": {
            "tags": []
          },
          "execution_count": 47
        }
      ]
    },
    {
      "cell_type": "code",
      "metadata": {
        "colab": {
          "base_uri": "https://localhost:8080/"
        },
        "id": "HA1d5AZ_iJo4",
        "outputId": "6486b817-6984-4e62-d939-1382dc88de91"
      },
      "source": [
        "squares[:1:-3]"
      ],
      "execution_count": 56,
      "outputs": [
        {
          "output_type": "execute_result",
          "data": {
            "text/plain": [
              "[39062500000000]"
            ]
          },
          "metadata": {
            "tags": []
          },
          "execution_count": 56
        }
      ]
    },
    {
      "cell_type": "code",
      "metadata": {
        "colab": {
          "base_uri": "https://localhost:8080/"
        },
        "id": "wycz5TBmidQk",
        "outputId": "5de7e44d-0598-4595-e2ae-7c9652c163d7"
      },
      "source": [
        "squares[:] = []\r\n",
        "squares"
      ],
      "execution_count": 81,
      "outputs": [
        {
          "output_type": "execute_result",
          "data": {
            "text/plain": [
              "[]"
            ]
          },
          "metadata": {
            "tags": []
          },
          "execution_count": 81
        }
      ]
    },
    {
      "cell_type": "code",
      "metadata": {
        "id": "AQUBH-8cjn9_"
      },
      "source": [
        "#tuple"
      ],
      "execution_count": null,
      "outputs": []
    },
    {
      "cell_type": "code",
      "metadata": {
        "id": "m8ivOb25jsI-"
      },
      "source": [
        "t = 12345, 54321, 'hello!'"
      ],
      "execution_count": 82,
      "outputs": []
    },
    {
      "cell_type": "code",
      "metadata": {
        "colab": {
          "base_uri": "https://localhost:8080/"
        },
        "id": "W1U-NkeDjyLb",
        "outputId": "e455a729-efd7-488a-8cab-0b0be0c6c6c7"
      },
      "source": [
        "t[0]"
      ],
      "execution_count": 83,
      "outputs": [
        {
          "output_type": "execute_result",
          "data": {
            "text/plain": [
              "12345"
            ]
          },
          "metadata": {
            "tags": []
          },
          "execution_count": 83
        }
      ]
    },
    {
      "cell_type": "code",
      "metadata": {
        "colab": {
          "base_uri": "https://localhost:8080/"
        },
        "id": "WiE4mKbPj11i",
        "outputId": "2f8f82d8-1a37-4857-f392-61cb5721deaa"
      },
      "source": [
        "u = t , (1, 2, 3, 4, 5)\r\n",
        "u"
      ],
      "execution_count": 85,
      "outputs": [
        {
          "output_type": "execute_result",
          "data": {
            "text/plain": [
              "((12345, 54321, 'hello!'), (1, 2, 3, 4, 5))"
            ]
          },
          "metadata": {
            "tags": []
          },
          "execution_count": 85
        }
      ]
    },
    {
      "cell_type": "code",
      "metadata": {
        "colab": {
          "base_uri": "https://localhost:8080/"
        },
        "id": "i_KcH0YNkYwE",
        "outputId": "6de30f51-8f5d-4a0b-824c-c25697a0a10e"
      },
      "source": [
        "x ,y , z = t\r\n",
        "print(x)\r\n",
        "print(y)\r\n",
        "print(z)"
      ],
      "execution_count": 89,
      "outputs": [
        {
          "output_type": "stream",
          "text": [
            "12345\n",
            "54321\n",
            "hello!\n"
          ],
          "name": "stdout"
        }
      ]
    },
    {
      "cell_type": "code",
      "metadata": {
        "id": "1PPuWSZzktzD"
      },
      "source": [
        "#set \r\n",
        "basket = {'apple', 'orange', 'apple', 'pear', 'orange', 'banana'}"
      ],
      "execution_count": 90,
      "outputs": []
    },
    {
      "cell_type": "code",
      "metadata": {
        "id": "suU84OuflC-7"
      },
      "source": [
        ""
      ],
      "execution_count": null,
      "outputs": []
    },
    {
      "cell_type": "code",
      "metadata": {
        "colab": {
          "base_uri": "https://localhost:8080/"
        },
        "id": "7x4JTZuQk5i2",
        "outputId": "4a9a8af5-abd1-40f1-ddf8-674512f19416"
      },
      "source": [
        "print(basket)"
      ],
      "execution_count": 91,
      "outputs": [
        {
          "output_type": "stream",
          "text": [
            "{'pear', 'banana', 'apple', 'orange'}\n"
          ],
          "name": "stdout"
        }
      ]
    },
    {
      "cell_type": "code",
      "metadata": {
        "colab": {
          "base_uri": "https://localhost:8080/"
        },
        "id": "nOuceNslk9yW",
        "outputId": "ecc3ec4b-1f97-440d-ff7e-2f609386c745"
      },
      "source": [
        "'orange' in basket"
      ],
      "execution_count": 92,
      "outputs": [
        {
          "output_type": "execute_result",
          "data": {
            "text/plain": [
              "True"
            ]
          },
          "metadata": {
            "tags": []
          },
          "execution_count": 92
        }
      ]
    },
    {
      "cell_type": "code",
      "metadata": {
        "colab": {
          "base_uri": "https://localhost:8080/"
        },
        "id": "AhmwcTK6mUlg",
        "outputId": "3be3b12f-f4d3-44f5-d695-563aaaae0940"
      },
      "source": [
        "a = set('abdrcdrjjfhitiuywetds')\r\n",
        "b = set('ahsgyghtgwshkjkdj')\r\n",
        "a - b # elements which are in but not in b"
      ],
      "execution_count": 93,
      "outputs": [
        {
          "output_type": "execute_result",
          "data": {
            "text/plain": [
              "{'b', 'c', 'e', 'f', 'i', 'r', 'u'}"
            ]
          },
          "metadata": {
            "tags": []
          },
          "execution_count": 93
        }
      ]
    },
    {
      "cell_type": "code",
      "metadata": {
        "colab": {
          "base_uri": "https://localhost:8080/"
        },
        "id": "XjmCqhA1owiJ",
        "outputId": "5b26ede0-8bfa-4a9d-c5de-065527a84bcc"
      },
      "source": [
        "marks_students = {'a':10, 'b': 20, 'c': 30}\r\n",
        "marks_students"
      ],
      "execution_count": 95,
      "outputs": [
        {
          "output_type": "execute_result",
          "data": {
            "text/plain": [
              "{'a': 10, 'b': 20, 'c': 30}"
            ]
          },
          "metadata": {
            "tags": []
          },
          "execution_count": 95
        }
      ]
    },
    {
      "cell_type": "code",
      "metadata": {
        "colab": {
          "base_uri": "https://localhost:8080/"
        },
        "id": "xLNcbGLTq38V",
        "outputId": "f7e280a8-5824-48ef-e59d-7371a0940b09"
      },
      "source": [
        "marks_students['a']"
      ],
      "execution_count": 96,
      "outputs": [
        {
          "output_type": "execute_result",
          "data": {
            "text/plain": [
              "10"
            ]
          },
          "metadata": {
            "tags": []
          },
          "execution_count": 96
        }
      ]
    },
    {
      "cell_type": "code",
      "metadata": {
        "colab": {
          "base_uri": "https://localhost:8080/"
        },
        "id": "fpnGqkZErA4N",
        "outputId": "d89dce24-8057-40f4-9e7e-215c608208f8"
      },
      "source": [
        "del marks_students['b']\r\n",
        "marks_students"
      ],
      "execution_count": 97,
      "outputs": [
        {
          "output_type": "execute_result",
          "data": {
            "text/plain": [
              "{'a': 10, 'c': 30}"
            ]
          },
          "metadata": {
            "tags": []
          },
          "execution_count": 97
        }
      ]
    },
    {
      "cell_type": "code",
      "metadata": {
        "colab": {
          "base_uri": "https://localhost:8080/"
        },
        "id": "cemILUpwrH6C",
        "outputId": "c2e65688-2f45-49b4-ada3-10b9e2854f79"
      },
      "source": [
        "'b' in marks_students"
      ],
      "execution_count": 98,
      "outputs": [
        {
          "output_type": "execute_result",
          "data": {
            "text/plain": [
              "False"
            ]
          },
          "metadata": {
            "tags": []
          },
          "execution_count": 98
        }
      ]
    },
    {
      "cell_type": "code",
      "metadata": {
        "colab": {
          "base_uri": "https://localhost:8080/"
        },
        "id": "-Di1L72LrcQ4",
        "outputId": "66620a31-3211-495e-dea6-a990d636d21f"
      },
      "source": [
        "traffic_light =  'green'\r\n",
        "if traffic_light == 'green':\r\n",
        "  print('Light is Green')\r\n",
        "  print('go ahead')\r\n",
        "else:\r\n",
        "  print('light is not green')\r\n",
        "  print('please stop')"
      ],
      "execution_count": 99,
      "outputs": [
        {
          "output_type": "stream",
          "text": [
            "Light is Green\n",
            "go ahead\n"
          ],
          "name": "stdout"
        }
      ]
    },
    {
      "cell_type": "code",
      "metadata": {
        "colab": {
          "base_uri": "https://localhost:8080/"
        },
        "id": "mDVv__ArruOL",
        "outputId": "dd26b008-83b0-4141-c2d7-0540c8bc7224"
      },
      "source": [
        "n  = 0\r\n",
        "while n < 10:\r\n",
        "  print(n)\r\n",
        "  n += 1"
      ],
      "execution_count": 100,
      "outputs": [
        {
          "output_type": "stream",
          "text": [
            "0\n",
            "1\n",
            "2\n",
            "3\n",
            "4\n",
            "5\n",
            "6\n",
            "7\n",
            "8\n",
            "9\n"
          ],
          "name": "stdout"
        }
      ]
    },
    {
      "cell_type": "code",
      "metadata": {
        "colab": {
          "base_uri": "https://localhost:8080/"
        },
        "id": "ncVExEsqr9XK",
        "outputId": "22c52105-93d6-4c49-fae1-86c92bc1a732"
      },
      "source": [
        "words = ['cat', 'window', 'isro']\r\n",
        "for w in words:\r\n",
        "  print(w, len(w))"
      ],
      "execution_count": 101,
      "outputs": [
        {
          "output_type": "stream",
          "text": [
            "cat 3\n",
            "window 6\n",
            "isro 4\n"
          ],
          "name": "stdout"
        }
      ]
    },
    {
      "cell_type": "code",
      "metadata": {
        "colab": {
          "base_uri": "https://localhost:8080/"
        },
        "id": "1GXyGOjMsKBF",
        "outputId": "7c49724a-6bbf-4036-b85e-d3e96fc3b86b"
      },
      "source": [
        "for i in range(5):\r\n",
        "  print(i, end=',')"
      ],
      "execution_count": 103,
      "outputs": [
        {
          "output_type": "stream",
          "text": [
            "0,1,2,3,4,"
          ],
          "name": "stdout"
        }
      ]
    },
    {
      "cell_type": "code",
      "metadata": {
        "colab": {
          "base_uri": "https://localhost:8080/"
        },
        "id": "10_NNOhosSAg",
        "outputId": "ebfb9df1-aec2-44b8-cada-3ba8d0238dd8"
      },
      "source": [
        "for  i in range(5, 10):\r\n",
        "  print(i ,end=',')"
      ],
      "execution_count": 104,
      "outputs": [
        {
          "output_type": "stream",
          "text": [
            "5,6,7,8,9,"
          ],
          "name": "stdout"
        }
      ]
    },
    {
      "cell_type": "code",
      "metadata": {
        "colab": {
          "base_uri": "https://localhost:8080/"
        },
        "id": "GGaquhmJsaGV",
        "outputId": "9a90164b-abfb-4dc4-a42d-bf4a8e5cd70b"
      },
      "source": [
        "for i in range(5, 10, 2):\r\n",
        "  print(i, end = ',')"
      ],
      "execution_count": 105,
      "outputs": [
        {
          "output_type": "stream",
          "text": [
            "5,7,9,"
          ],
          "name": "stdout"
        }
      ]
    },
    {
      "cell_type": "code",
      "metadata": {
        "colab": {
          "base_uri": "https://localhost:8080/"
        },
        "id": "mQdLtsSCsgqp",
        "outputId": "2c6340d2-7b09-431f-cd0a-a2af38ae5705"
      },
      "source": [
        "for i in range(5): # break out of innermost enclosing for or while loop\r\n",
        "  if i == 4:\r\n",
        "    break\r\n",
        "  print(i)"
      ],
      "execution_count": 106,
      "outputs": [
        {
          "output_type": "stream",
          "text": [
            "0\n",
            "1\n",
            "2\n",
            "3\n"
          ],
          "name": "stdout"
        }
      ]
    },
    {
      "cell_type": "code",
      "metadata": {
        "colab": {
          "base_uri": "https://localhost:8080/"
        },
        "id": "5lEpNys_s-zY",
        "outputId": "52ab1eaf-da1d-4502-bf21-0e767121960a"
      },
      "source": [
        "for i in range(10): # will skip the specific condition defined\r\n",
        "  if i % 2 == 0:\r\n",
        "    continue\r\n",
        "  print(i)"
      ],
      "execution_count": 107,
      "outputs": [
        {
          "output_type": "stream",
          "text": [
            "1\n",
            "3\n",
            "5\n",
            "7\n",
            "9\n"
          ],
          "name": "stdout"
        }
      ]
    },
    {
      "cell_type": "code",
      "metadata": {
        "colab": {
          "base_uri": "https://localhost:8080/"
        },
        "id": "QT2xrVD7tRf3",
        "outputId": "5519d8b1-1a8d-43ab-8df1-2a08ce328168"
      },
      "source": [
        "def check_odd_even(i):\r\n",
        "  if i % 2 == 0:\r\n",
        "    print(i , 'is even number')\r\n",
        "  print(i , 'is odd number')\r\n",
        "\r\n",
        "check_odd_even(3)"
      ],
      "execution_count": 108,
      "outputs": [
        {
          "output_type": "stream",
          "text": [
            "3 is odd number\n"
          ],
          "name": "stdout"
        }
      ]
    },
    {
      "cell_type": "code",
      "metadata": {
        "id": "9CoKMh_ttj20"
      },
      "source": [
        ""
      ],
      "execution_count": null,
      "outputs": []
    }
  ]
}